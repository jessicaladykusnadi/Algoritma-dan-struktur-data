{
 "cells": [
  {
   "cell_type": "code",
   "execution_count": 1,
   "metadata": {},
   "outputs": [
    {
     "name": "stdout",
     "output_type": "stream",
     "text": [
      "I like programming\n",
      "Because I Proud to make something new\n"
     ]
    }
   ],
   "source": [
    "#JESSICA LADY KUSNADI\n",
    "#membuat fungsi 1\n",
    "\n",
    "def a ():\n",
    "    print (\"Because I Proud to make something new\")\n",
    "    \n",
    "#membuat fungsi 1\n",
    "def b () :\n",
    "        print(\"I like programming\")\n",
    "        \n",
    "#pemanggilan fungsi\n",
    "b()\n",
    "a()"
   ]
  },
  {
   "cell_type": "code",
   "execution_count": 4,
   "metadata": {},
   "outputs": [
    {
     "name": "stdout",
     "output_type": "stream",
     "text": [
      "Masukan Nama Anda :jeje\n",
      "Nama saya adalah  jeje\n",
      "Luas persegi panjang adalah : 50\n",
      "Luas persegi panjang adalah : 5000\n"
     ]
    }
   ],
   "source": [
    "#jessica lady kusnadi \n",
    "#Membuat Fungsi \n",
    "\n",
    "#Fungsi pertama non parameter\n",
    "def perkenalan():\n",
    "    nama = input(\"Masukan Nama Anda :\")\n",
    "    print (\"Nama saya adalah \", nama)\n",
    "#Fungsi kedua dengan parameter\n",
    "def luas_persegipanjang(panjang, lebar):\n",
    "    luas = panjang * lebar\n",
    "    print(\"Luas persegi panjang adalah :\", luas)\n",
    "    \n",
    "#Panggil Fungsi parameter\n",
    "perkenalan()\n",
    "luas_persegipanjang(5,10)\n",
    "luas_persegipanjang(100,50)\n",
    "\n"
   ]
  },
  {
   "cell_type": "code",
   "execution_count": 5,
   "metadata": {},
   "outputs": [
    {
     "name": "stdout",
     "output_type": "stream",
     "text": [
      "p :8\n",
      "l :9\n",
      "t :10\n",
      "Luas persegi panjang adalah 72\n",
      "Volume balok adalah 720\n"
     ]
    }
   ],
   "source": [
    "#jessica lady kusnadi\n",
    "#Fungsi return\n",
    "\n",
    "p = int (input(\"p :\"))\n",
    "l = int (input(\"l :\"))\n",
    "t = int (input(\"t :\"))\n",
    "\n",
    "def luas_pp () :\n",
    "    luas = p * l\n",
    "    return luas\n",
    "def volume_balok () :\n",
    "    volume = luas_pp() * t\n",
    "    return volume\n",
    "print (\"Luas persegi panjang adalah\", luas_pp())\n",
    "print (\"Volume balok adalah\", volume_balok())"
   ]
  },
  {
   "cell_type": "code",
   "execution_count": 2,
   "metadata": {},
   "outputs": [
    {
     "name": "stdout",
     "output_type": "stream",
     "text": [
      "angka pertama= 7\n",
      "angka kedua= 8\n",
      "Apakah a sama dengan b: False\n",
      "Apakah a lebih besar dari b: None\n"
     ]
    }
   ],
   "source": [
    "#FUNGSI, INPUT, OPERATOR\n",
    "a = int(input(\"angka pertama= \"))\n",
    "b = int(input(\"angka kedua= \"))\n",
    "\n",
    "#apakah a sama dengan b?\n",
    "def sama_dengan():\n",
    "    c = a == b\n",
    "    #print (\"Apakah a sama dengan b:\", c)\n",
    "    return c\n",
    "\n",
    "#apakah a lebih besar dari b?\n",
    "def lebih_besar():\n",
    "    d = a > b\n",
    "    #print (\"Apakah a lebih besar dari b:\", d)\n",
    "    \n",
    "#sama_dengan()\n",
    "#lebih_besar()\n",
    "\n",
    "print(\"Apakah a sama dengan b:\", sama_dengan())\n",
    "print(\"Apakah a lebih besar dari b:\", lebih_besar())"
   ]
  },
  {
   "cell_type": "code",
   "execution_count": null,
   "metadata": {},
   "outputs": [],
   "source": []
  }
 ],
 "metadata": {
  "kernelspec": {
   "display_name": "Python 3",
   "language": "python",
   "name": "python3"
  },
  "language_info": {
   "codemirror_mode": {
    "name": "ipython",
    "version": 3
   },
   "file_extension": ".py",
   "mimetype": "text/x-python",
   "name": "python",
   "nbconvert_exporter": "python",
   "pygments_lexer": "ipython3",
   "version": "3.8.3"
  }
 },
 "nbformat": 4,
 "nbformat_minor": 4
}
