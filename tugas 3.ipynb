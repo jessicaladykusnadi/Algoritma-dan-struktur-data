{
 "cells": [
  {
   "cell_type": "code",
   "execution_count": 1,
   "metadata": {},
   "outputs": [
    {
     "name": "stdout",
     "output_type": "stream",
     "text": [
      "Tinggi badan Jessica adalah 155\n"
     ]
    },
    {
     "ename": "NameError",
     "evalue": "name 'tinggi_badan' is not defined",
     "output_type": "error",
     "traceback": [
      "\u001b[1;31m---------------------------------------------------------------------------\u001b[0m",
      "\u001b[1;31mNameError\u001b[0m                                 Traceback (most recent call last)",
      "\u001b[1;32m<ipython-input-1-aece017e0aaa>\u001b[0m in \u001b[0;36m<module>\u001b[1;34m\u001b[0m\n\u001b[0;32m      6\u001b[0m \u001b[1;33m\u001b[0m\u001b[0m\n\u001b[0;32m      7\u001b[0m \u001b[1;32mdel\u001b[0m \u001b[1;33m(\u001b[0m\u001b[0mtinggi_badan\u001b[0m\u001b[1;33m)\u001b[0m\u001b[1;33m\u001b[0m\u001b[1;33m\u001b[0m\u001b[0m\n\u001b[1;32m----> 8\u001b[1;33m \u001b[0mprint\u001b[0m \u001b[1;33m(\u001b[0m\u001b[0mtinggi_badan\u001b[0m\u001b[1;33m)\u001b[0m\u001b[1;33m\u001b[0m\u001b[1;33m\u001b[0m\u001b[0m\n\u001b[0m",
      "\u001b[1;31mNameError\u001b[0m: name 'tinggi_badan' is not defined"
     ]
    }
   ],
   "source": [
    "#Jessica Lady Kusnadi\n",
    "\n",
    "\n",
    "tinggi_badan = 155 \n",
    "print(\"Tinggi badan Jessica adalah\", tinggi_badan)\n",
    "\n",
    "del (tinggi_badan)\n",
    "print (tinggi_badan)"
   ]
  },
  {
   "cell_type": "code",
   "execution_count": 2,
   "metadata": {},
   "outputs": [
    {
     "name": "stdout",
     "output_type": "stream",
     "text": [
      "Keliling lingkaran sama dengan  314.0\n"
     ]
    }
   ],
   "source": [
    "#jessica lady kusnadi \n",
    "#menghitung keliling lingkaran\n",
    "\n",
    "r = 50          #variable : r, #tipe_data : integer\n",
    "phi = 3.14      #variable :phi,#tipe_data : float\n",
    "kel = 2*phi*r\n",
    "\n",
    "print (\"Keliling lingkaran sama dengan \", kel)\n"
   ]
  },
  {
   "cell_type": "code",
   "execution_count": 8,
   "metadata": {},
   "outputs": [
    {
     "name": "stdout",
     "output_type": "stream",
     "text": [
      "True\n",
      "False\n"
     ]
    }
   ],
   "source": [
    "#jessica lady kusnadi \n",
    "#perbandingan boolean\n",
    "\n",
    "print (50 > 30)\n",
    "print (30 > 50)"
   ]
  },
  {
   "cell_type": "code",
   "execution_count": 1,
   "metadata": {},
   "outputs": [
    {
     "name": "stdout",
     "output_type": "stream",
     "text": [
      "64.0\n",
      "0b1000000\n",
      "0x40\n"
     ]
    }
   ],
   "source": [
    "#jessica lady kusnadi \n",
    "#konversi tipe data\n",
    "\n",
    "a = 64\n",
    "\n",
    "print (float (a))\n",
    "print (bin (a))\n",
    "print (hex (a))"
   ]
  },
  {
   "cell_type": "code",
   "execution_count": 13,
   "metadata": {},
   "outputs": [
    {
     "name": "stdout",
     "output_type": "stream",
     "text": [
      "Biodata mahasiswa\n",
      "Nama : Jessica Lady Kusnadi\n",
      "NIM :  20090008\n",
      "\n",
      "Dia adalah mahasiswa smester 1 yang berprestasi, karena memiliki IPK  3.94\n"
     ]
    },
    {
     "ename": "NameError",
     "evalue": "name 'ipk' is not defined",
     "output_type": "error",
     "traceback": [
      "\u001b[1;31m---------------------------------------------------------------------------\u001b[0m",
      "\u001b[1;31mNameError\u001b[0m                                 Traceback (most recent call last)",
      "\u001b[1;32m<ipython-input-13-006c92b225b1>\u001b[0m in \u001b[0;36m<module>\u001b[1;34m\u001b[0m\n\u001b[0;32m     14\u001b[0m \u001b[1;33m\u001b[0m\u001b[0m\n\u001b[0;32m     15\u001b[0m \u001b[1;32mdel\u001b[0m \u001b[1;33m(\u001b[0m\u001b[0mipk\u001b[0m\u001b[1;33m)\u001b[0m\u001b[1;33m\u001b[0m\u001b[1;33m\u001b[0m\u001b[0m\n\u001b[1;32m---> 16\u001b[1;33m \u001b[0mprint\u001b[0m \u001b[1;33m(\u001b[0m\u001b[0mipk\u001b[0m\u001b[1;33m)\u001b[0m\u001b[1;33m\u001b[0m\u001b[1;33m\u001b[0m\u001b[0m\n\u001b[0m",
      "\u001b[1;31mNameError\u001b[0m: name 'ipk' is not defined"
     ]
    }
   ],
   "source": [
    "#jessica lady kusnadi \n",
    "\n",
    "print (\"Biodata mahasiswa\")\n",
    "nama = \"Jessica Lady Kusnadi\"\n",
    "nim = \"\"\" 20090008\n",
    "\"\"\"\n",
    "\n",
    "semester = 1\n",
    "ipk = 3.94\n",
    "\n",
    "print (\"Nama :\", nama)\n",
    "print (\"NIM :\", nim)\n",
    "print (\"Dia adalah mahasiswa smester 1 yang berprestasi, karena memiliki IPK \", ipk)\n",
    "\n",
    "del (ipk)\n",
    "print (ipk)"
   ]
  },
  {
   "cell_type": "code",
   "execution_count": null,
   "metadata": {},
   "outputs": [],
   "source": []
  }
 ],
 "metadata": {
  "kernelspec": {
   "display_name": "Python 3",
   "language": "python",
   "name": "python3"
  },
  "language_info": {
   "codemirror_mode": {
    "name": "ipython",
    "version": 3
   },
   "file_extension": ".py",
   "mimetype": "text/x-python",
   "name": "python",
   "nbconvert_exporter": "python",
   "pygments_lexer": "ipython3",
   "version": "3.8.3"
  }
 },
 "nbformat": 4,
 "nbformat_minor": 4
}
