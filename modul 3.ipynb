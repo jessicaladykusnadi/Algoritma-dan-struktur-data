{
 "cells": [
  {
   "cell_type": "code",
   "execution_count": 10,
   "metadata": {},
   "outputs": [
    {
     "name": "stdout",
     "output_type": "stream",
     "text": [
      "30\n",
      "3.14\n",
      "50\n",
      "ini variable milik jessica\n"
     ]
    },
    {
     "ename": "NameError",
     "evalue": "name 'Variabel_saya' is not defined",
     "output_type": "error",
     "traceback": [
      "\u001b[1;31m---------------------------------------------------------------------------\u001b[0m",
      "\u001b[1;31mNameError\u001b[0m                                 Traceback (most recent call last)",
      "\u001b[1;32m<ipython-input-10-52de0ba80eea>\u001b[0m in \u001b[0;36m<module>\u001b[1;34m\u001b[0m\n\u001b[0;32m      8\u001b[0m \u001b[0mprint\u001b[0m \u001b[1;33m(\u001b[0m\u001b[0mVar2\u001b[0m\u001b[1;33m)\u001b[0m\u001b[1;33m\u001b[0m\u001b[1;33m\u001b[0m\u001b[0m\n\u001b[0;32m      9\u001b[0m \u001b[0mprint\u001b[0m \u001b[1;33m(\u001b[0m\u001b[0mVariable_saya\u001b[0m\u001b[1;33m)\u001b[0m\u001b[1;33m\u001b[0m\u001b[1;33m\u001b[0m\u001b[0m\n\u001b[1;32m---> 10\u001b[1;33m \u001b[0mprint\u001b[0m \u001b[1;33m(\u001b[0m\u001b[0mVariabel_saya\u001b[0m\u001b[1;33m,\u001b[0m\u001b[1;34m\"adalah\"\u001b[0m\u001b[1;33m,\u001b[0m\u001b[0mVar2\u001b[0m\u001b[1;33m)\u001b[0m\u001b[1;33m\u001b[0m\u001b[1;33m\u001b[0m\u001b[0m\n\u001b[0m",
      "\u001b[1;31mNameError\u001b[0m: name 'Variabel_saya' is not defined"
     ]
    }
   ],
   "source": [
    "Var = 30\n",
    "Phi = 3.14\n",
    "Var2 = 50\n",
    "Variable_saya = \"ini variable milik jessica\"\n",
    "\n",
    "print (Var)\n",
    "print (Phi)\n",
    "print (Var2)\n",
    "print (Variable_saya)\n",
    "print (Variabel_saya,\"adalah\",Var2)"
   ]
  },
  {
   "cell_type": "code",
   "execution_count": 2,
   "metadata": {},
   "outputs": [
    {
     "name": "stdout",
     "output_type": "stream",
     "text": [
      "jessica\n",
      "\n",
      "        jl.melati 1 Rt 9,Rw 3,kelurahan kedung banteng pangkah\n",
      "\n",
      "menari\n"
     ]
    }
   ],
   "source": [
    "nama = \"jessica\"\n",
    "alamat = \"\"\"\n",
    "        jl.melati 1 Rt 9,Rw 3,kelurahan kedung banteng pangkah\n",
    "\"\"\"\n",
    "hobi =\"menari\"\n",
    "print(nama)\n",
    "print(alamat)\n",
    "print(hobi)"
   ]
  },
  {
   "cell_type": "code",
   "execution_count": 12,
   "metadata": {},
   "outputs": [
    {
     "name": "stdout",
     "output_type": "stream",
     "text": [
      "True\n"
     ]
    }
   ],
   "source": [
    "perbandingan = 12 > 10\n",
    "print(perbandingan)"
   ]
  },
  {
   "cell_type": "code",
   "execution_count": 14,
   "metadata": {},
   "outputs": [
    {
     "name": "stdout",
     "output_type": "stream",
     "text": [
      "halo mas data !\n"
     ]
    }
   ],
   "source": [
    "a = \"halo\"\n",
    "b = \" mas \"\n",
    "c = \"data !\"\n",
    "d = a + b + c\n",
    "print (d)"
   ]
  },
  {
   "cell_type": "code",
   "execution_count": null,
   "metadata": {},
   "outputs": [],
   "source": []
  }
 ],
 "metadata": {
  "kernelspec": {
   "display_name": "Python 3",
   "language": "python",
   "name": "python3"
  },
  "language_info": {
   "codemirror_mode": {
    "name": "ipython",
    "version": 3
   },
   "file_extension": ".py",
   "mimetype": "text/x-python",
   "name": "python",
   "nbconvert_exporter": "python",
   "pygments_lexer": "ipython3",
   "version": "3.8.3"
  }
 },
 "nbformat": 4,
 "nbformat_minor": 4
}
