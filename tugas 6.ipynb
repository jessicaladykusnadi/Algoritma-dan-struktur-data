{
 "cells": [
  {
   "cell_type": "code",
   "execution_count": 1,
   "metadata": {},
   "outputs": [
    {
     "name": "stdout",
     "output_type": "stream",
     "text": [
      "inputkan nilaimu:  67\n",
      "kamu harus ikut remidi\n"
     ]
    }
   ],
   "source": [
    "nilai = int(input(\"inputkan nilaimu:  \"))\n",
    "\n",
    "if nilai < 70:\n",
    "    print(\"kamu harus ikut remidi\")"
   ]
  },
  {
   "cell_type": "code",
   "execution_count": 1,
   "metadata": {},
   "outputs": [
    {
     "name": "stdout",
     "output_type": "stream",
     "text": [
      "Berapakah nilai kamu?85\n"
     ]
    }
   ],
   "source": [
    "#jessica lady kusnadi\n",
    "#percabangan if\n",
    "\n",
    "nilai = int(input(\"Berapakah nilai kamu?\"))\n",
    "if nilai < 70:\n",
    "    print(\"kamu harus ikut remidi\")"
   ]
  },
  {
   "cell_type": "code",
   "execution_count": 2,
   "metadata": {},
   "outputs": [
    {
     "name": "stdout",
     "output_type": "stream",
     "text": [
      "masukkan jari-jari 8\n",
      "Luas Lingkaran adalah 200\n",
      "lingkaran ini besar\n"
     ]
    }
   ],
   "source": [
    "r = int (input (\"masukkan jari-jari \"))\n",
    "L = 3.14*r*r\n",
    "print (\"Luas Lingkaran adalah\", int(L))\n",
    "\n",
    "if L >= 3.14:\n",
    "    print (\"lingkaran ini besar\")\n",
    "else:\n",
    "    print(\"Lingkaran ini kecil\")"
   ]
  },
  {
   "cell_type": "code",
   "execution_count": 3,
   "metadata": {},
   "outputs": [
    {
     "name": "stdout",
     "output_type": "stream",
     "text": [
      "Masukkan jari-jari29\n",
      "Luas Lingkaran adalah 2640\n",
      "Lingkaran ini besar\n"
     ]
    }
   ],
   "source": [
    "#if else\n",
    "r = int(input(\"Masukkan jari-jari\"))\n",
    "L = 3.14*r*r\n",
    "print(\"Luas Lingkaran adalah\", int(L))\n",
    "\n",
    "if L >= 314:\n",
    "    print(\"Lingkaran ini besar\")\n",
    "else:\n",
    "    print(\"Lingkaran ini kecil\")"
   ]
  },
  {
   "cell_type": "code",
   "execution_count": 7,
   "metadata": {},
   "outputs": [
    {
     "name": "stdout",
     "output_type": "stream",
     "text": [
      "Masukkan nomor program12\n",
      "program tidak tersedia\n"
     ]
    }
   ],
   "source": [
    "def V_balok():\n",
    "    p = int(input(\"Masukkan panjang \"))\n",
    "    l = int(input(\"Masukkan lebar \"))\n",
    "    t = int(input(\"Masukkan tinggi \"))\n",
    "    V_balok = p*l*t\n",
    "    print(\"volume balok adalah = \", V_balok)\n",
    "def V_kubus():\n",
    "    s = int(input(\"Masukkan s\"))\n",
    "    V_kubus = s*s*s\n",
    "    print(\"volume kubus adalah = \", V_kubus)\n",
    "\n",
    "program = int(input(\"Masukkan nomor program\"))\n",
    "\n",
    "if program == 1: \n",
    "    V_balok()\n",
    "elif program == 2:\n",
    "    V_kubus()\n",
    "else: \n",
    "    print(\"program tidak tersedia\")"
   ]
  },
  {
   "cell_type": "code",
   "execution_count": null,
   "metadata": {},
   "outputs": [],
   "source": []
  }
 ],
 "metadata": {
  "kernelspec": {
   "display_name": "Python 3",
   "language": "python",
   "name": "python3"
  },
  "language_info": {
   "codemirror_mode": {
    "name": "ipython",
    "version": 3
   },
   "file_extension": ".py",
   "mimetype": "text/x-python",
   "name": "python",
   "nbconvert_exporter": "python",
   "pygments_lexer": "ipython3",
   "version": "3.8.3"
  }
 },
 "nbformat": 4,
 "nbformat_minor": 4
}
