{
 "cells": [
  {
   "cell_type": "code",
   "execution_count": 1,
   "metadata": {},
   "outputs": [
    {
     "name": "stdout",
     "output_type": "stream",
     "text": [
      "hasil 5 + 2 adalah           : 7\n",
      "hasil 5 - 2 adalah           : 3\n",
      "hasil 5 * 2 adalah           : 10\n",
      "hasil 5 / 2 adalah           : 2.5\n",
      "hasil 5 % 2 adalah           : 1\n",
      "hasil 5 ** 2 adalah          : 25\n"
     ]
    }
   ],
   "source": [
    "#Jessica Lady Kusnadi\n",
    "#Operator Aritmatika\n",
    "\n",
    "#Menggunakan Operator Penjumlahan\n",
    "p = 5               #variable , type data, interger  \n",
    "q = 2\n",
    "jumlah = p + q\n",
    "print (\"hasil\",p,\"+\",q,\"adalah           :\", jumlah)\n",
    "\n",
    "#Menggunakan Operator pengurangan\n",
    "kurang = p - q \n",
    "print (\"hasil\",p,\"-\",q,\"adalah           :\", kurang)\n",
    "\n",
    "#Menggunakan Operator perkalian\n",
    "kali = p * q\n",
    "print (\"hasil\",p,\"*\",q,\"adalah           :\",  kali)\n",
    "\n",
    "#Menggunakan Operator pembagian\n",
    "bagi = p / q\n",
    "print (\"hasil\",p,\"/\",q,\"adalah           :\",  bagi)\n",
    "\n",
    "#menggunakan operator sisa bagi\n",
    "sisa_bagi = p % q\n",
    "print (\"hasil\",p,\"%\",q,\"adalah           :\", sisa_bagi)\n",
    "\n",
    "#menggunakan operato pemangkatan\n",
    "pangkat = p ** q\n",
    "print (\"hasil\",p,\"**\",q,\"adalah          :\", pangkat)\n"
   ]
  },
  {
   "cell_type": "code",
   "execution_count": 2,
   "metadata": {},
   "outputs": [
    {
     "name": "stdout",
     "output_type": "stream",
     "text": [
      "data yang diisi adalah             : 8\n",
      "nilai setelah ditambah 2 adalah    : 10\n",
      "nilai setelah dikurang 3 adalah     : 7\n",
      "nilai setelah dikali 10 adalah      : 70\n",
      "nilai setelah dibagi 2 adalah       : 35.0\n",
      "nilai setelah sisa dibagi 4 adalah  : 3.0\n",
      "nilai setelah dipangkatkan 3 adalah    : 27.0\n"
     ]
    }
   ],
   "source": [
    "#JESSICA LADY KUSNADI\n",
    "#operator penugasan\n",
    "\n",
    "#operator penugasan untuk mengisi nilai\n",
    "nilai = 8\n",
    "print(\"data yang diisi adalah             :\",nilai )\n",
    "\n",
    "#operator penugasan untuk penjumlahan \n",
    "nilai += 2\n",
    "print (\"nilai setelah ditambah 2 adalah    :\",nilai )\n",
    "\n",
    "#operator penugasan untuk pengurangan \n",
    "nilai -= 3\n",
    "print (\"nilai setelah dikurang 3 adalah     :\",nilai)\n",
    "\n",
    "#operator penugasan untuk perkalian\n",
    "nilai *= 10\n",
    "print (\"nilai setelah dikali 10 adalah      :\",nilai)\n",
    "\n",
    "\n",
    "#operator penugasan untuk pembagian\n",
    "nilai /= 2\n",
    "print (\"nilai setelah dibagi 2 adalah       :\",nilai)\n",
    "\n",
    "#operator penugasan untuk sisa bagi\n",
    "nilai %= 4\n",
    "print (\"nilai setelah sisa dibagi 4 adalah  :\",nilai)\n",
    "\n",
    "\n",
    "#operator penugasan untuk pemangkatan\n",
    "nilai **= 3\n",
    "print (\"nilai setelah dipangkatkan 3 adalah    :\",nilai)\n"
   ]
  },
  {
   "cell_type": "code",
   "execution_count": 4,
   "metadata": {},
   "outputs": [
    {
     "name": "stdout",
     "output_type": "stream",
     "text": [
      "apakah angka ke 1 lebih besar dari angka ke 2?        : True\n",
      "apakah angka ke 1 lebih besar dari angka ke 2?        : False\n",
      "apakah angka ke 1 sama dengan dari angka ke 2?          : False\n",
      "apakah angka ke 1 tidak sama dengan dari angka ke 2?      : False\n",
      "apakah angka ke 1 lebih besar sama dengan dari angka ke 2?  : False\n",
      "apakah angka ke 1 lebih kecil sama dengan  dari angka ke 2?  : False\n"
     ]
    }
   ],
   "source": [
    "#jessica lady kusnadi\n",
    "#operator pembanding\n",
    "\n",
    "#operator perbandingan lebih besar\n",
    "angka_ke1 = 12\n",
    "angka_ke2 = 6\n",
    "\n",
    "perbandingan1 =angka_ke1 > angka_ke2\n",
    "print (\"apakah angka ke 1 lebih besar dari angka ke 2?        :\",perbandingan1)\n",
    "\n",
    "#operator perbandingan lebih kecil \n",
    "perbandingan2 =angka_ke1 < angka_ke2\n",
    "print (\"apakah angka ke 1 lebih besar dari angka ke 2?        :\",perbandingan2)\n",
    "\n",
    "#operator perbandingan sama dengan \n",
    "perbandingan3 =angka_ke1 == angka_ke2\n",
    "print (\"apakah angka ke 1 sama dengan dari angka ke 2?          :\",perbandingan3)\n",
    "\n",
    "#operator perbandingan tidak sama dengan \n",
    "perbandingan4 =angka_ke1 < angka_ke2\n",
    "print (\"apakah angka ke 1 tidak sama dengan dari angka ke 2?      :\",perbandingan4)\n",
    "\n",
    "#operator perbandingan lebih besar sama dengan \n",
    "perbandingan5 =angka_ke1 < angka_ke2\n",
    "print (\"apakah angka ke 1 lebih besar sama dengan dari angka ke 2?  :\",perbandingan5)\n",
    "\n",
    "#operator perbandingan lebih kecil sama dengan\n",
    "perbandingan6 =angka_ke1 < angka_ke2\n",
    "print (\"apakah angka ke 1 lebih kecil sama dengan  dari angka ke 2?  :\",perbandingan6)\n",
    "\n",
    "\n",
    "\n",
    "\n",
    "\n",
    "\n",
    "\n"
   ]
  },
  {
   "cell_type": "code",
   "execution_count": 6,
   "metadata": {},
   "outputs": [
    {
     "name": "stdout",
     "output_type": "stream",
     "text": [
      "apakah angka ke 1 lebih besar dari angka ke 2?        : True\n",
      "apakah angka ke 1 lebih besar dari angka ke 2?        : False\n",
      "apakah angka ke 1 sama dengan dari angka ke 2?          : False\n",
      "apakah angka ke 1 tidak sama dengan dari angka ke 2?      : False\n",
      "apakah angka ke 1 lebih besar sama dengan dari angka ke 2?  : False\n",
      "apakah angka ke 1 lebih kecil sama dengan  dari angka ke 2?  : False\n"
     ]
    }
   ],
   "source": [
    "#jessica lady kusnadi\n",
    "#operator pembanding\n",
    "\n",
    "\n",
    "angka_ke1 = 12\n",
    "angka_ke2 = 6\n",
    "#operator perbandingan lebih besar\n",
    "perbandingan1 =angka_ke1 > angka_ke2\n",
    "print (\"apakah angka ke 1 lebih besar dari angka ke 2?        :\",perbandingan1)\n",
    "\n",
    "#operator perbandingan lebih kecil \n",
    "perbandingan2 =angka_ke1 < angka_ke2\n",
    "print (\"apakah angka ke 1 lebih besar dari angka ke 2?        :\",perbandingan2)\n",
    "\n",
    "#operator perbandingan sama dengan \n",
    "perbandingan3 =angka_ke1 == angka_ke2\n",
    "print (\"apakah angka ke 1 sama dengan dari angka ke 2?          :\",perbandingan3)\n",
    "\n",
    "#operator perbandingan tidak sama dengan \n",
    "perbandingan4 =angka_ke1 < angka_ke2\n",
    "print (\"apakah angka ke 1 tidak sama dengan dari angka ke 2?      :\",perbandingan4)\n",
    "\n",
    "#operator perbandingan lebih besar sama dengan \n",
    "perbandingan5 =angka_ke1 < angka_ke2\n",
    "print (\"apakah angka ke 1 lebih besar sama dengan dari angka ke 2?  :\",perbandingan5)\n",
    "\n",
    "#operator perbandingan lebih kecil sama dengan\n",
    "perbandingan6 =angka_ke1 < angka_ke2\n",
    "print (\"apakah angka ke 1 lebih kecil sama dengan  dari angka ke 2?  :\",perbandingan6)\n"
   ]
  },
  {
   "cell_type": "code",
   "execution_count": 7,
   "metadata": {},
   "outputs": [
    {
     "name": "stdout",
     "output_type": "stream",
     "text": [
      "logika AND adalah jika keduanya true, maka             : True\n",
      "logika AND adalah jika salah satunya false,maka        : False\n",
      "logika AND adalah jika keduanya false,maka              : False\n",
      "logika OR adalah jika keduanya true , maka               : True\n",
      "Logika OR adalah jika salah satunya true,maka            : True\n",
      "logika OR adalah jika keduanya false,maka                : False\n",
      "logika NOT adalah jika true ,maka   : False\n",
      "logika NOT adalah jika false,maka    : True\n"
     ]
    }
   ],
   "source": [
    "#jessica lady kusnadi\n",
    "#logika AND \n",
    "\n",
    "data1 = True\n",
    "data2 = False\n",
    "and1 = data1 and data1\n",
    "print (\"logika AND adalah jika keduanya true, maka             :\",and1)\n",
    "\n",
    "and2 = data1 and data2\n",
    "print (\"logika AND adalah jika salah satunya false,maka        :\",and2)\n",
    "\n",
    "and3 = data2 and data2\n",
    "print (\"logika AND adalah jika keduanya false,maka              :\",and3)\n",
    "\n",
    "\n",
    "#LOGIKA OR\n",
    "\n",
    "or1 = data1 or data1\n",
    "print(\"logika OR adalah jika keduanya true , maka               :\",or1)\n",
    "\n",
    "or2 = data1 or data2\n",
    "print(\"Logika OR adalah jika salah satunya true,maka            :\",or2)\n",
    "\n",
    "or3 = data2 or data2\n",
    "print(\"logika OR adalah jika keduanya false,maka                :\",or3)\n",
    "\n",
    "#LOGIKA NOT\n",
    "\n",
    "not1 = not data1\n",
    "print(\"logika NOT adalah jika true ,maka   :\",not1)\n",
    "\n",
    "not2 = not data2\n",
    "print(\"logika NOT adalah jika false,maka    :\",not2)"
   ]
  },
  {
   "cell_type": "code",
   "execution_count": 14,
   "metadata": {},
   "outputs": [
    {
     "name": "stdout",
     "output_type": "stream",
     "text": [
      "masukkan nama bayi  :lili\n",
      "masukkan berat badan bayi (KG) :3\n",
      "Berat Badannya : 10 (ons)\n",
      "hallo lili berat badan mu adalah 10 KG atau 10 ONS,  1 bulan kemudian 40\n"
     ]
    }
   ],
   "source": [
    "#jessica lady kusnadi \n",
    "# input output \n",
    "\n",
    "#input\n",
    "nama_bayi =input(\"masukkan nama bayi  :\")\n",
    "berat_badan = int(input(\"masukkan berat badan bayi (KG) :\"))\n",
    "\n",
    "#PROSES\n",
    "ons = berat_badan = 10\n",
    "berat_1bulan = ons + 30\n",
    "\n",
    "#output\n",
    "print (\"Berat Badannya :\", ons, \"(ons)\")\n",
    "print (\"hallo\", nama_bayi,\"berat badan mu adalah\",berat_badan,\"KG\", \"atau\",ons,\"ONS, \",\"1 bulan kemudian\",berat_1bulan)"
   ]
  },
  {
   "cell_type": "code",
   "execution_count": null,
   "metadata": {},
   "outputs": [],
   "source": []
  }
 ],
 "metadata": {
  "kernelspec": {
   "display_name": "Python 3",
   "language": "python",
   "name": "python3"
  },
  "language_info": {
   "codemirror_mode": {
    "name": "ipython",
    "version": 3
   },
   "file_extension": ".py",
   "mimetype": "text/x-python",
   "name": "python",
   "nbconvert_exporter": "python",
   "pygments_lexer": "ipython3",
   "version": "3.8.3"
  }
 },
 "nbformat": 4,
 "nbformat_minor": 4
}
