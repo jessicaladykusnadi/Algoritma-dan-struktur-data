{
 "cells": [
  {
   "cell_type": "code",
   "execution_count": 1,
   "metadata": {},
   "outputs": [
    {
     "name": "stdout",
     "output_type": "stream",
     "text": [
      "hasil 8 + 10 = 18\n",
      "hasil 8 - 10 = -2\n"
     ]
    }
   ],
   "source": [
    "#OPERATOR ARITMATIKA\n",
    "\n",
    "a = 8\n",
    "b = 10\n",
    "\n",
    "# menggunakan operator penjumlahan\n",
    "c = a + b\n",
    "print(\"hasil\",a ,\"+\" ,b, \"=\",c)\n",
    "\n",
    "#operator pengurangan\n",
    "d = a - b\n",
    "print(\"hasil\",a, \"-\",b, \"=\",d)"
   ]
  },
  {
   "cell_type": "code",
   "execution_count": 5,
   "metadata": {},
   "outputs": [
    {
     "name": "stdout",
     "output_type": "stream",
     "text": [
      "10\n",
      "15\n"
     ]
    }
   ],
   "source": [
    "#operator penugasan \n",
    "\n",
    "a =10 #contoh operator  penugasan untuk mengisi nilai \n",
    "print (a)\n",
    "\n",
    "a += 5 #jumlahkan nilai a dengan operator penugasan untuk menjumlahkan \n",
    "    #simpan hasil penugasan penjumlahan pada a\n",
    "    \n",
    "# setelah nilai a ditambah 5 ,tampilkan hasilnya\n",
    "print (a)\n",
    "\n",
    "\n"
   ]
  },
  {
   "cell_type": "code",
   "execution_count": 15,
   "metadata": {},
   "outputs": [
    {
     "name": "stdout",
     "output_type": "stream",
     "text": [
      "apakah a sama dengan b: False\n",
      "apakah a lebih dari b: True\n"
     ]
    }
   ],
   "source": [
    "#OPERATOR PEMBANDING\n",
    "\n",
    "a = 10\n",
    "b = 5\n",
    "\n",
    "#apakah a sama dengan b?\n",
    "c = a == b\n",
    "print (\"apakah a sama dengan b:\",c)\n",
    "\n",
    "#apakah a lebih dari b?\n",
    "d = a > b\n",
    "print (\"apakah a lebih dari b:\",d)\n"
   ]
  },
  {
   "cell_type": "code",
   "execution_count": 16,
   "metadata": {},
   "outputs": [
    {
     "name": "stdout",
     "output_type": "stream",
     "text": [
      "False\n"
     ]
    }
   ],
   "source": [
    "#operator Logika\n",
    "\n",
    "a = True\n",
    "b = False\n",
    "\n",
    "# Logika AND \n",
    "c = a and b \n",
    "print (c)"
   ]
  },
  {
   "cell_type": "code",
   "execution_count": 17,
   "metadata": {},
   "outputs": [
    {
     "name": "stdout",
     "output_type": "stream",
     "text": [
      "4\n"
     ]
    }
   ],
   "source": [
    "#OPERASI BITWISE\n",
    "\n",
    "a = 4\n",
    "b = 5\n",
    "c = a & b\n",
    "print(c)\n",
    "\n",
    "\n",
    "#a =      00111100\n",
    "#b =      00001101\n",
    "#a & b =  00001100"
   ]
  },
  {
   "cell_type": "code",
   "execution_count": 18,
   "metadata": {},
   "outputs": [
    {
     "name": "stdout",
     "output_type": "stream",
     "text": [
      "dewasa\n"
     ]
    }
   ],
   "source": [
    "#OPERASI TERNARY\n",
    "\n",
    "umur = 17\n",
    "aku = \"bocah \"if umur < 10 else \"dewasa\"\n",
    "print (aku)"
   ]
  },
  {
   "cell_type": "code",
   "execution_count": 19,
   "metadata": {},
   "outputs": [
    {
     "name": "stdout",
     "output_type": "stream",
     "text": [
      "Masukan nama anda jessica lady kusnadi\n",
      "nama anda adalah jessica lady kusnadi\n"
     ]
    }
   ],
   "source": [
    "#MENGAMBIL INPUT\n",
    "\n",
    "name = input (\"Masukan nama anda \")\n",
    "print (\"nama anda adalah\",name)"
   ]
  },
  {
   "cell_type": "code",
   "execution_count": 5,
   "metadata": {},
   "outputs": [
    {
     "name": "stdout",
     "output_type": "stream",
     "text": [
      "masukkan nilai alas10\n",
      "masukkan nilai tinggi15\n",
      "Luas segitiga 75.0\n"
     ]
    }
   ],
   "source": [
    "#mengambil data float/integer dari keyboard untuk variabel a dan t\n",
    "a = float(input(\"masukkan nilai alas\"))   #int bisa diganti float\n",
    "t = float(input (\"masukkan nilai tinggi\"))  #int bisa diganti float\n",
    "\n",
    "L = 0.5*a*t\n",
    "print(\"Luas segitiga\",L)"
   ]
  },
  {
   "cell_type": "code",
   "execution_count": 11,
   "metadata": {},
   "outputs": [
    {
     "name": "stdout",
     "output_type": "stream",
     "text": [
      "nama kamu siapa? jessica lady kusnadi\n",
      "berapa umur kamu? 19\n",
      "hallo jessica lady kusnadi umur saya 3 tahun  lagi adalah  22\n"
     ]
    }
   ],
   "source": [
    "#mengambil input\n",
    "nama = input (\"nama kamu siapa? \")\n",
    "umur = int(input(\"berapa umur kamu? \"))\n",
    "            \n",
    " \n",
    "umur_3tahunlagi = umur + 3\n",
    "            \n",
    "#Menampilkan output\n",
    "print (\"hallo\",nama, \"umur saya 3 tahun  lagi adalah \",umur_3tahunlagi)\n"
   ]
  },
  {
   "cell_type": "code",
   "execution_count": null,
   "metadata": {},
   "outputs": [],
   "source": []
  }
 ],
 "metadata": {
  "kernelspec": {
   "display_name": "Python 3",
   "language": "python",
   "name": "python3"
  },
  "language_info": {
   "codemirror_mode": {
    "name": "ipython",
    "version": 3
   },
   "file_extension": ".py",
   "mimetype": "text/x-python",
   "name": "python",
   "nbconvert_exporter": "python",
   "pygments_lexer": "ipython3",
   "version": "3.8.3"
  }
 },
 "nbformat": 4,
 "nbformat_minor": 4
}
